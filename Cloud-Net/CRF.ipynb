{
 "cells": [
  {
   "cell_type": "code",
   "execution_count": 2,
   "source": [
    "import os\n",
    "import numpy as np\n",
    "import cloud_net_model\n",
    "os.environ[\"CUDA_VISIBLE_ORDER\"]=\"PCI_BUS_ID\"\n",
    "os.environ[\"CUDA_VISIBLE_DEVICES\"]=\"-1\"\n",
    "import tensorflow as tf\n",
    "import keras.backend.tensorflow_backend as KTF\n",
    "from skimage.transform import resize\n",
    "from skimage import img_as_uint\n",
    "from tensorflow.python.client import device_lib\n",
    "import pydensecrf.densecrf as dcrf\n",
    "from pydensecrf.utils import unary_from_softmax, create_pairwise_bilateral, create_pairwise_gaussian\n",
    "weights_path = '/home/wxw/.local/share/cloud-net/Cloud-Net/38-Cloud dataset/Cloud-Net_trained_on_38-Cloud_training_patches.h5'\n",
    "model = cloud_net_model.model_arch(input_rows=384,\n",
    "                                       input_cols=384,\n",
    "                                       num_of_channels=4,\n",
    "                                       num_of_classes=1)\n",
    "model.load_weights(weights_path)\n",
    "from skimage.io import imread,imsave,imshow\n",
    "import numpy as np\n",
    "import torch as nn"
   ],
   "outputs": [],
   "metadata": {}
  },
  {
   "cell_type": "code",
   "execution_count": 3,
   "source": [
    "def split_and_resize_img(image,w,h):\n",
    "    image=image/65536\n",
    "    LU=image[0:512,0:512]\n",
    "    RU=image[512:1024,0:512]\n",
    "    LD=image[0:512,512:1024]\n",
    "    RD=image[512:1024,512:1024]\n",
    "    LU = resize (LU, (w, h), preserve_range=True, mode='symmetric')\n",
    "    RU = resize (RU, (w, h), preserve_range=True, mode='symmetric')\n",
    "    LD = resize (LD, (w, h), preserve_range=True, mode='symmetric')\n",
    "    RD = resize (RD, (w, h), preserve_range=True, mode='symmetric')\n",
    "    return LU,RU,LD,RD\n",
    "\n",
    "def thres_adjust(pred,threshold):\n",
    "    pred[pred>=threshold]=1\n",
    "    pred[pred<threshold]=0\n",
    "    pred=pred.astype(np.float32)\n",
    "    return pred"
   ],
   "outputs": [],
   "metadata": {}
  },
  {
   "cell_type": "code",
   "execution_count": 29,
   "source": [
    "img=imread('/home/wxw/.local/share/cloud-net/datas/area2-0.tiff')\n",
    "img = resize (img, (384, 384), preserve_range=True, mode='symmetric')\n",
    "img=np.array([img])\n",
    "pred=model.predict(img)\n",
    "# pred=thres_adjust(pred,0.00000000047)\n",
    "pred=pred[0]\n",
    "pred[pred<1e-8]=1e-8\n",
    "rgb=img[0][:,:,0:3]\n",
    "rgb=rgb.astype(np.uint8)"
   ],
   "outputs": [],
   "metadata": {}
  },
  {
   "cell_type": "code",
   "execution_count": 5,
   "source": [
    "np.min(1-pred)"
   ],
   "outputs": [
    {
     "output_type": "execute_result",
     "data": {
      "text/plain": [
       "0.0"
      ]
     },
     "metadata": {},
     "execution_count": 5
    }
   ],
   "metadata": {}
  },
  {
   "cell_type": "code",
   "execution_count": 6,
   "source": [
    "pred=pred.reshape(384,384)"
   ],
   "outputs": [],
   "metadata": {}
  },
  {
   "cell_type": "code",
   "execution_count": 19,
   "source": [
    "d = dcrf.DenseCRF2D(384, 384, 2)\n",
    "U = np.expand_dims(-np.log(pred), axis=0)\n",
    "temp=1-pred\n",
    "temp[temp<1e-8]=1e-8\n",
    "U_ = np.expand_dims(-np.log(temp), axis=0)\n",
    "unary = np.concatenate((U_, U), axis=0)\n",
    "unary = unary.reshape((2, -1))\n",
    "unary.shape\n",
    "# U=unary_from_softmax(pred,scale=None,clip=1e-5)\n",
    "d.setUnaryEnergy(unary)\n",
    "d.addPairwiseGaussian(sxy=(3,3), compat=3)\n",
    "d.addPairwiseBilateral(sxy=(10,10), srgb=(13,13,13), rgbim=rgb, compat=10)\n",
    "Q = d.inference(5)\n",
    "Map = np.argmax(Q, axis=0).reshape((384,384))"
   ],
   "outputs": [],
   "metadata": {}
  },
  {
   "cell_type": "code",
   "execution_count": 20,
   "source": [
    "imshow(Map,cmap='gray')"
   ],
   "outputs": [
    {
     "output_type": "stream",
     "name": "stderr",
     "text": [
      "/home/wxw/anaconda3/envs/py36/lib/python3.6/site-packages/skimage/io/_plugins/matplotlib_plugin.py:150: UserWarning: Low image data range; displaying image with stretched contrast.\n",
      "  lo, hi, cmap = _get_display_range(image)\n"
     ]
    },
    {
     "output_type": "execute_result",
     "data": {
      "text/plain": [
       "<matplotlib.image.AxesImage at 0x7fb21c4e3128>"
      ]
     },
     "metadata": {},
     "execution_count": 20
    },
    {
     "output_type": "display_data",
     "data": {
      "image/png": "[encoded data removed]",
      "text/plain": [
       "<Figure size 432x288 with 2 Axes>"
      ]
     },
     "metadata": {
      "needs_background": "light"
     }
    }
   ],
   "metadata": {}
  },
  {
   "cell_type": "code",
   "execution_count": 31,
   "source": [
    "pred=thres_adjust(pred,0.00000047)\n",
    "imshow(pred)"
   ],
   "outputs": [
    {
     "output_type": "execute_result",
     "data": {
      "text/plain": [
       "<matplotlib.image.AxesImage at 0x7fb21c24ab00>"
      ]
     },
     "metadata": {},
     "execution_count": 31
    },
    {
     "output_type": "display_data",
     "data": {
      "image/png": "[encoded data removed]",
      "text/plain": [
       "<Figure size 432x288 with 1 Axes>"
      ]
     },
     "metadata": {
      "needs_background": "light"
     }
    }
   ],
   "metadata": {}
  },
  {
   "cell_type": "code",
   "execution_count": 30,
   "source": [
    "np.min(pred)"
   ],
   "outputs": [
    {
     "output_type": "execute_result",
     "data": {
      "text/plain": [
       "1e-08"
      ]
     },
     "metadata": {},
     "execution_count": 30
    }
   ],
   "metadata": {}
  },
  {
   "cell_type": "code",
   "execution_count": 34,
   "source": [
    "0.71*0.13/0.2597"
   ],
   "outputs": [
    {
     "output_type": "execute_result",
     "data": {
      "text/plain": [
       "0.35541008856372736"
      ]
     },
     "metadata": {},
     "execution_count": 34
    }
   ],
   "metadata": {}
  },
  {
   "cell_type": "code",
   "execution_count": 35,
   "source": [
    "1-0.6238-0.3556"
   ],
   "outputs": [
    {
     "output_type": "execute_result",
     "data": {
      "text/plain": [
       "0.02059999999999995"
      ]
     },
     "metadata": {},
     "execution_count": 35
    }
   ],
   "metadata": {}
  },
  {
   "cell_type": "code",
   "execution_count": null,
   "source": [],
   "outputs": [],
   "metadata": {}
  }
 ],
 "metadata": {
  "orig_nbformat": 4,
  "language_info": {
   "name": "python",
   "version": "3.6.13",
   "mimetype": "text/x-python",
   "codemirror_mode": {
    "name": "ipython",
    "version": 3
   },
   "pygments_lexer": "ipython3",
   "nbconvert_exporter": "python",
   "file_extension": ".py"
  },
  "kernelspec": {
   "name": "python3",
   "display_name": "Python 3.6.13 64-bit ('py36': conda)"
  },
  "interpreter": {
   "hash": "47249099cbcdf54445aababc616bf2b8695f9a532f1c7614b5743f37dd9e8cd3"
  }
 },
 "nbformat": 4,
 "nbformat_minor": 2
}