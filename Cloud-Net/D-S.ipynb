{
 "cells": [
  {
   "cell_type": "code",
   "execution_count": null,
   "metadata": {},
   "outputs": [],
   "source": [
    "from skimage.io import imread,imshow,imsave\n",
    "from matplotlib import pyplot as plt\n",
    "from skimage.transform import resize\n",
    "import numpy as np"
   ]
  },
  {
   "cell_type": "code",
   "execution_count": null,
   "metadata": {},
   "outputs": [],
   "source": [
    "def ds_pred(i,j,Mn,Mf,Mfn,frames):\n",
    "    l=len(frames)\n",
    "    n=Mn[0]*Mn[1]+Mn[0]*Mfn[1]+Mfn[0]*Mn[1]\n",
    "    f=Mf[0]*Mf[1]+Mf[0]*Mfn[1]+Mfn[0]*Mf[1]\n",
    "    fn=Mfn[0]*Mfn[1]\n",
    "    if l>2:\n",
    "        for k in range(2,l):\n",
    "            n=n*(Mn[k]+Mfn[k])+fn*Mn[k]\n",
    "            f=f*(Mf[k]+Mfn[k])+fn*Mf[k]\n",
    "            fn*=Mfn[k]\n",
    "    K=n+f+fn\n",
    "    N=n/K\n",
    "    F=f/K\n",
    "    FN=fn/K\n",
    "    BN=N\n",
    "    BF=F\n",
    "    BFN=F+N\n",
    "\n",
    "    PN=BN+FN\n",
    "    PF=BF+FN\n",
    "    PFN=BFN\n",
    "    order=0\n",
    "    if PN>PF:  #云\n",
    "        if (np.sum(Mn-Mf)>0)==Mn.shape[0]:\n",
    "            result=Mn[np.argmin(Mn)]\n",
    "            frame_value=frames[np.argmin(Mn)][i][j]\n",
    "            order=np.argmin(Mn)\n",
    "        else:\n",
    "            result=min(1-0.6,1-Mf[np.argmax(Mf)])\n",
    "            frame_value = frames[np.argmax(Mf)][i][j]\n",
    "            order=np.argmax(Mf)\n",
    "    else: \n",
    "        result=min(1-Mn[np.argmax(Mf)],1-0.6)\n",
    "        frame_value=frames[np.argmax(Mf)][i][j]\n",
    "        order=np.argmax(Mf)\n",
    "    pixs=frames[0:frames.shape[0],i,j]\n",
    "    return order,result,frame_value"
   ]
  },
  {
   "cell_type": "code",
   "execution_count": null,
   "metadata": {},
   "outputs": [],
   "source": [
    "#loading cloudy images and segmentation results in frames[length:384:384:3] and preds[length:384:384:3],their piexel values should be scaled to [0,1].\n",
    "# length=5\n",
    "# Order=7\n",
    "# pred_path='F:\\local\\cloud-net\\predictions/'\n",
    "# preds=[]\n",
    "# for i in range(length):\n",
    "#     pred=imread(pred_path+'area'+str(Order)+'-'+str(i)+'_pred.tiff')\n",
    "#     preds.append(pred)\n",
    "# len(preds)\n",
    "# frame_path='F:\\local\\cloud-net\\datas/'\n",
    "# frames=[]\n",
    "# for i in range(length):\n",
    "#     frame=imread(frame_path+'area'+str(Order)+'-'+str(i)+'.tiff')\n",
    "#     frame=frame[:,:,0:3]\n",
    "#     frame= resize (frame, ( 384, 384), preserve_range=True, mode='symmetric')\n",
    "#     frames.append(frame/65535)\n",
    "# for i in range(length):\n",
    "#     for j in range(frames[i].shape[0]):\n",
    "#         for k in range(frames[i].shape[1]):\n",
    "#             if frames[i][j][k][0]>white_thre and frames[i][j][k][1]>white_thre and frames[i][j][k][2]>white_thre:\n",
    "#                 preds[i][j][k]=min(0.999,preds[i][j][k]+0.5)\n",
    "# preds=np.array(preds)\n",
    "# frames=np.array(frames)"
   ]
  },
  {
   "cell_type": "code",
   "execution_count": null,
   "metadata": {},
   "outputs": [],
   "source": [
    "white_thre=0.3  #gray threshold to help classifying clouds\n",
    "frame=np.zeros(shape=frames[0].shape)\n",
    "Mfn=[]\n",
    "for i in range(length):\n",
    "    Mfn.append(0.1)\n",
    "Mfn=np.array(Mfn)\n",
    "img = preds[0].copy()\n",
    "for i in range(len(img)):\n",
    "    for j in range(len(img)):\n",
    "        Mn=[]\n",
    "        Mf=[]\n",
    "        for k in range(len(frames)):\n",
    "              Mpn = preds[k][i][j]*(1-Mfn[k])\n",
    "              Mn.append(Mpn[0])\n",
    "              Mpf = (1-preds[k][i][j])*(1-Mfn[k])\n",
    "              Mf.append(Mpf[0])\n",
    "        Mn=np.array(Mn)\n",
    "        Mf=np.array(Mf)\n",
    "        order,img[i][j],frame[i][j]= ds_pred(i,j,Mn,Mf,Mfn,frames)\n",
    "# frame=exposure.adjust_gamma(frame,0.8)) #If the result image is dark, you may try gamma exposure.\n",
    "plt.imshow(frame)"
   ]
  }
 ],
 "metadata": {
  "kernelspec": {
   "display_name": "Python 3.8.8 ('base')",
   "language": "python",
   "name": "python3"
  },
  "language_info": {
   "name": "python",
   "version": "3.8.8"
  },
  "orig_nbformat": 4,
  "vscode": {
   "interpreter": {
    "hash": "ad2bdc8ecc057115af97d19610ffacc2b4e99fae6737bb82f5d7fb13d2f2c186"
   }
  }
 },
 "nbformat": 4,
 "nbformat_minor": 2
}
